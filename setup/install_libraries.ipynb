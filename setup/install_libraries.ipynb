{
 "cells": [
  {
   "cell_type": "code",
   "execution_count": 1,
   "id": "3f4a7a7c-6607-473a-852a-41000ee64369",
   "metadata": {},
   "outputs": [
    {
     "name": "stdout",
     "output_type": "stream",
     "text": [
      "Collecting canvasapi\n",
      "  Downloading canvasapi-3.0.0.tar.gz (84 kB)\n",
      "     ---------------------------------------- 84.4/84.4 kB 4.6 MB/s eta 0:00:00\n",
      "  Preparing metadata (setup.py): started\n",
      "  Preparing metadata (setup.py): finished with status 'done'\n",
      "Requirement already satisfied: arrow in c:\\users\\school\\anaconda3\\lib\\site-packages (from canvasapi) (1.2.2)\n",
      "Requirement already satisfied: pytz in c:\\users\\school\\anaconda3\\lib\\site-packages (from canvasapi) (2022.1)\n",
      "Requirement already satisfied: requests in c:\\users\\school\\anaconda3\\lib\\site-packages (from canvasapi) (2.28.1)\n",
      "Requirement already satisfied: python-dateutil>=2.7.0 in c:\\users\\school\\anaconda3\\lib\\site-packages (from arrow->canvasapi) (2.8.2)\n",
      "Requirement already satisfied: idna<4,>=2.5 in c:\\users\\school\\anaconda3\\lib\\site-packages (from requests->canvasapi) (3.3)\n",
      "Requirement already satisfied: charset-normalizer<3,>=2 in c:\\users\\school\\anaconda3\\lib\\site-packages (from requests->canvasapi) (2.0.4)\n",
      "Requirement already satisfied: certifi>=2017.4.17 in c:\\users\\school\\anaconda3\\lib\\site-packages (from requests->canvasapi) (2022.9.14)\n",
      "Requirement already satisfied: urllib3<1.27,>=1.21.1 in c:\\users\\school\\anaconda3\\lib\\site-packages (from requests->canvasapi) (1.26.11)\n",
      "Requirement already satisfied: six>=1.5 in c:\\users\\school\\anaconda3\\lib\\site-packages (from python-dateutil>=2.7.0->arrow->canvasapi) (1.16.0)\n",
      "Building wheels for collected packages: canvasapi\n",
      "  Building wheel for canvasapi (setup.py): started\n",
      "  Building wheel for canvasapi (setup.py): finished with status 'done'\n",
      "  Created wheel for canvasapi: filename=canvasapi-3.0.0-py3-none-any.whl size=109627 sha256=fd4b532620c32984c739063f36454dc3b66b6cca94251edbf6b7add19dfe69cb\n",
      "  Stored in directory: c:\\users\\school\\appdata\\local\\pip\\cache\\wheels\\9d\\e1\\a5\\b9c5205377448b0389c0fccef6ea936bd17774de0aa0d4acaf\n",
      "Successfully built canvasapi\n",
      "Installing collected packages: canvasapi\n",
      "Successfully installed canvasapi-3.0.0\n"
     ]
    }
   ],
   "source": [
    "# Install a pip package in the current Jupyter kernel\n",
    "import sys\n",
    "!{sys.executable} -m pip install canvasapi"
   ]
  },
  {
   "cell_type": "code",
   "execution_count": null,
   "id": "caa6e371-da5e-4ef5-9a1c-0022635dd9dd",
   "metadata": {},
   "outputs": [],
   "source": []
  }
 ],
 "metadata": {
  "kernelspec": {
   "display_name": "Python 3 (ipykernel)",
   "language": "python",
   "name": "python3"
  },
  "language_info": {
   "codemirror_mode": {
    "name": "ipython",
    "version": 3
   },
   "file_extension": ".py",
   "mimetype": "text/x-python",
   "name": "python",
   "nbconvert_exporter": "python",
   "pygments_lexer": "ipython3",
   "version": "3.9.13"
  }
 },
 "nbformat": 4,
 "nbformat_minor": 5
}
