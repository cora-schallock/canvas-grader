{
 "cells": [
  {
   "cell_type": "markdown",
   "id": "626a0c19-60c2-4a6b-8024-db32e8238c5e",
   "metadata": {},
   "source": [
    "**Important**: You must create your canvas key and store it in a file prior to running this example or any code. See the README file for more details."
   ]
  },
  {
   "cell_type": "code",
   "execution_count": 1,
   "id": "0bbd6586-dc23-4158-8ade-7d7038dcf0c2",
   "metadata": {},
   "outputs": [],
   "source": [
    "import os\n",
    "\n",
    "from canvas_grader.file_helpers import read_csv\n",
    "from canvas_grader.process_gradebook import get_headers, check_valid_headers\n",
    "from canvas_grader.create_comment_files import create_comment_files, create_seat_comment_files\n",
    "from canvas_grader.upload_grades import get_scores_for_students, upload_scores"
   ]
  },
  {
   "cell_type": "markdown",
   "id": "aa12ab70-3f9a-43bf-9389-a77de27802b8",
   "metadata": {},
   "source": [
    "## Section #1: Define your variables\n",
    "**Important**: Please not there are additional variables that need to be modified in the canvas-grader/constants.py python file including `CANVAS_URL`, `COURSE_CODE`, and `PATH_TO_CANVAS_KEY_FILE`. See the README file for more details."
   ]
  },
  {
   "cell_type": "code",
   "execution_count": 2,
   "id": "744bdd55-2ef4-4e18-a5d9-080bfe1f6567",
   "metadata": {},
   "outputs": [],
   "source": [
    "#constants for this example:\n",
    "INPUT_FOLDER = \"input_data\"\n",
    "OUTPUT_FOLDER = \"output_data\"\n",
    "\n",
    "assignment_name = \"midterm_1_seating\"\n",
    "csv_path = os.path.join(INPUT_FOLDER,\"midterm_1_seating.csv\")\n",
    "comment_output_path = os.path.join(OUTPUT_FOLDER,assignment_name)"
   ]
  },
  {
   "cell_type": "markdown",
   "id": "973cae45-9f69-4497-9b39-5793924c7fe5",
   "metadata": {},
   "source": [
    "## Section #2: Read in the CSV gradebook and diplay the columns"
   ]
  },
  {
   "cell_type": "code",
   "execution_count": 3,
   "id": "b5fff3af-3770-4275-ac9f-91f22a15aa30",
   "metadata": {},
   "outputs": [
    {
     "name": "stdout",
     "output_type": "stream",
     "text": [
      "['Student', 'ID', 'SIS User ID', 'SIS Login ID', 'Section', 'Seats', 'Score']\n"
     ]
    }
   ],
   "source": [
    "df_grades = read_csv(csv_path)\n",
    "headers = get_headers(df_grades)\n",
    "print(headers)"
   ]
  },
  {
   "cell_type": "markdown",
   "id": "d3fabf43-dfb1-47ef-8d80-01f2a3ef5c91",
   "metadata": {},
   "source": [
    "## Section #3: Define Columns to be included in the comment:\n",
    "Not all the columns have to be included in this dictionary"
   ]
  },
  {
   "cell_type": "code",
   "execution_count": 4,
   "id": "f05fa254-0c41-4e68-905d-47347b431f26",
   "metadata": {},
   "outputs": [],
   "source": [
    "comment_dict = {'Seats': 'Seat Number:'}"
   ]
  },
  {
   "cell_type": "markdown",
   "id": "c33abcc7-9b45-494a-b24b-5b112202de34",
   "metadata": {},
   "source": [
    "#### Note:\n",
    "This comment_dict is a dictionary that has keys that are the column names in the gradebook, and the values are the corresponding lines to be included in the comment file"
   ]
  },
  {
   "cell_type": "code",
   "execution_count": 5,
   "id": "3b14741c-5643-47ca-92b4-471f8d1d9e2f",
   "metadata": {},
   "outputs": [
    {
     "data": {
      "text/plain": [
       "True"
      ]
     },
     "execution_count": 5,
     "metadata": {},
     "output_type": "execute_result"
    }
   ],
   "source": [
    "check_valid_headers(headers,comment_dict.keys())"
   ]
  },
  {
   "cell_type": "markdown",
   "id": "8e9137e8-c23c-4f54-9987-83cfa5b8b9ad",
   "metadata": {},
   "source": [
    "#### Note:\n",
    "After you construct the comment_dict, it is a good idea to check that all the keys are valid (i.e. are actual column names in the gradebook)"
   ]
  },
  {
   "cell_type": "markdown",
   "id": "336b2bbc-33f7-4bf5-8fd7-2518e908348c",
   "metadata": {},
   "source": [
    "## Section #4: Construct Comment Files:\n",
    "This creates one comment file per student and saves it the comment_output_path"
   ]
  },
  {
   "cell_type": "code",
   "execution_count": 7,
   "id": "db2e6634-ff81-4cad-a0bc-3afbce342153",
   "metadata": {},
   "outputs": [],
   "source": [
    "room_string = \" Room: HSLH 100A, Time: 2pm, Seating Chart Link: https://cpb-us-e2.wpmucdn.com/sites.uci.edu/dist/e/3784/files/2019/08/HSLH100A-seating-chart.pdf\"\n",
    "create_seat_comment_files(df_grades,comment_output_path,header_dict=comment_dict,room_string=room_string,assignment_name=assignment_name)"
   ]
  },
  {
   "cell_type": "markdown",
   "id": "4749c4f0-2d36-46f4-b7d2-550c70846bff",
   "metadata": {},
   "source": [
    "## Section #5: Get scores and path to comment files:\n",
    "#### Note:\n",
    "The score_key paramtere below corresponds to the column in the gradebook indicating the numeric score (i.e. number of points)"
   ]
  },
  {
   "cell_type": "code",
   "execution_count": 6,
   "id": "a5b47393-097a-44eb-b65c-86048a0c0f34",
   "metadata": {},
   "outputs": [],
   "source": [
    "id_to_score_dict, id_to_comment_path_dict = get_scores_for_students(df_grades,comment_output_path,score_key=\"Score\",assignment_name=assignment_name,upload_comments=True)"
   ]
  },
  {
   "cell_type": "markdown",
   "id": "05a47f7f-2b5c-47b4-b62f-52378274c4f8",
   "metadata": {},
   "source": [
    "## Section #6: Upload the scores and comments\n",
    "**Important**: You must provide the `assignment_number` for the assignment you wish to upload the grade for."
   ]
  },
  {
   "cell_type": "code",
   "execution_count": 7,
   "id": "d9333ca6-adcd-4bc5-8e7f-742a4d15b42a",
   "metadata": {},
   "outputs": [],
   "source": [
    "assignment_number = 1055350 #this must match the assignment number on canvas"
   ]
  },
  {
   "cell_type": "code",
   "execution_count": 8,
   "id": "abd33567-8b7b-4f88-bcd0-ccb5f61a7cd3",
   "metadata": {},
   "outputs": [],
   "source": [
    "upload_scores(id_to_score_dict, id_to_comment_path_dict, assignment_number, upload_comments=True, print_upload_id=True)"
   ]
  },
  {
   "cell_type": "markdown",
   "id": "21dc117a-85ad-445e-b025-3de1493a748c",
   "metadata": {},
   "source": [
    "**Important**: Ths assignment must be published to upload scores/ comments. If it is note public, then you will get an access error. If this error continues, double check your `assignment_number`, `CANVAS_URL`, `COURSE_CODE`, and canvas key are correct."
   ]
  },
  {
   "cell_type": "code",
   "execution_count": null,
   "id": "0dbf3ac2-bc07-4baf-9952-ecb3460dde5c",
   "metadata": {},
   "outputs": [],
   "source": []
  }
 ],
 "metadata": {
  "kernelspec": {
   "display_name": "Python 3 (ipykernel)",
   "language": "python",
   "name": "python3"
  },
  "language_info": {
   "codemirror_mode": {
    "name": "ipython",
    "version": 3
   },
   "file_extension": ".py",
   "mimetype": "text/x-python",
   "name": "python",
   "nbconvert_exporter": "python",
   "pygments_lexer": "ipython3",
   "version": "3.9.13"
  }
 },
 "nbformat": 4,
 "nbformat_minor": 5
}
