{
 "cells": [
  {
   "cell_type": "code",
   "execution_count": 1,
   "id": "59755215-3598-4a9d-a770-c9039b4fb261",
   "metadata": {},
   "outputs": [],
   "source": [
    "import os\n",
    "\n",
    "from canvas_grader.file_helpers import read_csv\n",
    "from canvas_grader.process_gradebook import get_headers, check_valid_headers\n",
    "from canvas_grader.create_comment_files import create_comment_files\n",
    "from canvas_grader.upload_grades import get_scores_for_students, upload_scores"
   ]
  },
  {
   "cell_type": "code",
   "execution_count": 2,
   "id": "744bdd55-2ef4-4e18-a5d9-080bfe1f6567",
   "metadata": {},
   "outputs": [],
   "source": [
    "#constants for this example:\n",
    "INPUT_FOLDER = \"input-data\"\n",
    "OUTPUT_FOLDER = \"output-data\"\n",
    "\n",
    "assignment_name = \"Example_Assignment\"\n",
    "csv_path = os.path.join(INPUT_FOLDER,\"example_gradebook.csv\")\n",
    "comment_output_path = os.path.join(INPUT_FOLDER,\"Example_Assignment\")"
   ]
  },
  {
   "cell_type": "markdown",
   "id": "973cae45-9f69-4497-9b39-5793924c7fe5",
   "metadata": {},
   "source": [
    "## Read in the CSV gradebook and diplay the columns"
   ]
  },
  {
   "cell_type": "code",
   "execution_count": 3,
   "id": "b5fff3af-3770-4275-ac9f-91f22a15aa30",
   "metadata": {},
   "outputs": [
    {
     "name": "stdout",
     "output_type": "stream",
     "text": [
      "['Student', 'ID', 'SIS User ID', 'SIS Login ID', 'Section', 'Rubric Item 1 (2 pts)', 'Rubric Item 2 (10 pts)', 'total']\n"
     ]
    }
   ],
   "source": [
    "df_grades = read_csv(csv_path)\n",
    "headers = get_headers(df_grades)\n",
    "print(headers)"
   ]
  },
  {
   "cell_type": "markdown",
   "id": "d3fabf43-dfb1-47ef-8d80-01f2a3ef5c91",
   "metadata": {},
   "source": [
    "## Define Columns to be included in the comment:"
   ]
  },
  {
   "cell_type": "code",
   "execution_count": 4,
   "id": "f05fa254-0c41-4e68-905d-47347b431f26",
   "metadata": {},
   "outputs": [
    {
     "data": {
      "text/plain": [
       "True"
      ]
     },
     "execution_count": 4,
     "metadata": {},
     "output_type": "execute_result"
    }
   ],
   "source": [
    "comment_dict = {'Rubric Item 1 (2 pts)': 'Rubrice Item #1 (2pts)',\n",
    "               'Rubric Item 2 (10 pts)': 'Rubric Item 2 (10 pts)'}\n",
    "check_valid_headers(headers,comment_dict.keys())"
   ]
  },
  {
   "cell_type": "code",
   "execution_count": 5,
   "id": "220cd78b-d20a-4655-ba5a-3d028e167e05",
   "metadata": {},
   "outputs": [],
   "source": [
    "create_comment_files(df_grades,comment_output_path,header_dict=comment_dict,assignment_name=assignment_name)"
   ]
  },
  {
   "cell_type": "code",
   "execution_count": null,
   "id": "db2e6634-ff81-4cad-a0bc-3afbce342153",
   "metadata": {},
   "outputs": [],
   "source": []
  },
  {
   "cell_type": "code",
   "execution_count": 6,
   "id": "a5b47393-097a-44eb-b65c-86048a0c0f34",
   "metadata": {},
   "outputs": [],
   "source": [
    "id_to_score_dict, id_to_comment_path_dict = get_scores_for_students(df_grades,comment_output_path,score_key=\"total\",assignment_name=assignment_name,upload_comments=True)"
   ]
  },
  {
   "cell_type": "code",
   "execution_count": 7,
   "id": "576fd866-4fe2-4b65-a345-83ad0cf0b44e",
   "metadata": {},
   "outputs": [
    {
     "name": "stdout",
     "output_type": "stream",
     "text": [
      "{349733: 7, 315751: 1, 345038: 12, 251234: 11}\n"
     ]
    }
   ],
   "source": []
  },
  {
   "cell_type": "code",
   "execution_count": 8,
   "id": "d9333ca6-adcd-4bc5-8e7f-742a4d15b42a",
   "metadata": {},
   "outputs": [],
   "source": [
    "assignment_number = 956498 #this must match the assignment number on canvas"
   ]
  },
  {
   "cell_type": "code",
   "execution_count": 9,
   "id": "abd33567-8b7b-4f88-bcd0-ccb5f61a7cd3",
   "metadata": {},
   "outputs": [],
   "source": [
    "upload_scores(id_to_score_dict, id_to_comment_path_dict, assignment_number, upload_comments=True, print_upload_id=True)"
   ]
  },
  {
   "cell_type": "code",
   "execution_count": null,
   "id": "49277240-f83c-43fa-aaa9-f81c722073b8",
   "metadata": {},
   "outputs": [],
   "source": []
  }
 ],
 "metadata": {
  "kernelspec": {
   "display_name": "Python 3",
   "language": "python",
   "name": "python3"
  },
  "language_info": {
   "codemirror_mode": {
    "name": "ipython",
    "version": 3
   },
   "file_extension": ".py",
   "mimetype": "text/x-python",
   "name": "python",
   "nbconvert_exporter": "python",
   "pygments_lexer": "ipython3",
   "version": "3.8.8"
  }
 },
 "nbformat": 4,
 "nbformat_minor": 5
}
