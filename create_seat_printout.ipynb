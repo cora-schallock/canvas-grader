{
 "cells": [
  {
   "cell_type": "code",
   "execution_count": 152,
   "id": "f7a13c84-3294-404d-b0f7-10c1055a11d2",
   "metadata": {},
   "outputs": [],
   "source": [
    "import os\n",
    "from collections import defaultdict\n",
    "import csv\n",
    "\n",
    "from canvas_grader.file_helpers import read_csv\n",
    "\n",
    "\n",
    "    "
   ]
  },
  {
   "cell_type": "code",
   "execution_count": 140,
   "id": "1ffcc5fb-7163-4af5-978e-42955649abab",
   "metadata": {},
   "outputs": [],
   "source": [
    "#customize for room: https://cpb-us-e2.wpmucdn.com/sites.uci.edu/dist/e/3784/files/2019/08/HSLH100A-seating-chart.pdf\n",
    "def get_row(seat):\n",
    "    return seat.strip().split(\"-\")[0]\n",
    "\n",
    "def get_seat_num(seat):\n",
    "    return int(seat.strip().split(\"-\")[-1])\n",
    "\n",
    "def sort_row(row_of_seats,section):\n",
    "    to_reverse = section == \"Left\"\n",
    "    #return sorted(row_value,key=lambda x: get_seat_num(row_value[seat_column_label]), reverse = to_reverse)\n",
    "    return sorted(row_of_seats,key=lambda x: get_seat_num(x), reverse = to_reverse)\n",
    "\n",
    "def is_left(seat):\n",
    "    seat_num = seat.strip().split(\"-\")[-1]\n",
    "    return int(seat_num)%2 == 0 and len(seat_num) < 3\n",
    "\n",
    "def is_center(seat):\n",
    "    seat_num = seat.strip().split(\"-\")[-1]\n",
    "    return len(seat_num) >= 3\n",
    "\n",
    "def is_right(seat):\n",
    "    seat_num = seat.strip().split(\"-\")[-1]\n",
    "    return int(seat_num)%2 != 0 and len(seat_num) < 3\n",
    "\n",
    "sections = {\"Left\": is_left, \"Center\": is_center, \"Right\": is_right}\n",
    "\n",
    "def get_section(seat):\n",
    "    for each_section in sections:\n",
    "        if sections[each_section](seat):\n",
    "            return each_section\n",
    "    return ''\n",
    "\n",
    "def create_row_of_section_dict(the_whole_section):\n",
    "    row_of_section_dict = defaultdict(list)\n",
    "    \n",
    "    for each_seat in the_whole_section:\n",
    "        row_of_section_dict[get_row(each_seat)].append(each_seat)\n",
    "    \n",
    "    return row_of_section_dict"
   ]
  },
  {
   "cell_type": "code",
   "execution_count": 163,
   "id": "7e963478-324f-4aa8-b4d2-11fafb024069",
   "metadata": {},
   "outputs": [],
   "source": [
    "def create_seat_printout(data_frame,seat_column_label=\"Seats\"):\n",
    "    seat_sorted_by_section = defaultdict(list)\n",
    "    seat_dict = {}\n",
    "    section_dict = {}\n",
    "    \n",
    "    #csv_as_list = [[\"Seat\", \"Section\", \"Student\", \"UCI Net\"]]\n",
    "    csv_as_list = []\n",
    "    \n",
    "    for each, row in data_frame.iterrows():\n",
    "        seat = row[seat_column_label]\n",
    "        seat_dict[seat] = row\n",
    "        section_dict[seat] = get_section(seat)\n",
    "    \n",
    "    for each_section in sections:\n",
    "        the_whole_section = list(filter(lambda x: section_dict[x] == each_section,seat_dict.keys()))\n",
    "        row_of_section_dict = create_row_of_section_dict(the_whole_section)\n",
    "        \n",
    "        print(each_section)\n",
    "        for each_row in sorted(row_of_section_dict):\n",
    "            for each_seat in sort_row(row_of_section_dict[each_row],each_section):\n",
    "                #csv_as_list.append([each_seat, each_section, seat_dict[each_seat][\"Student\"], seat_dict[each_seat][\"SIS Login ID\"]]) #to sort by row and section\n",
    "                csv_as_list.append([seat_dict[each_seat][\"SIS Login ID\"],seat_dict[each_seat][\"Student\"],each_seat, each_section]) #to sort by ucinet id\n",
    "      \n",
    "   \n",
    "    #row and section\n",
    "    #with open(\"output_data//midterm_1_seating//by_row.csv\", \"w\", newline=\"\") as f:\n",
    "    #    writer = csv.writer(f)\n",
    "    #    writer.writerows(csv_as_list)\n",
    "    \n",
    "    #ucinet id\n",
    "    csv_as_list = sorted(csv_as_list,key=lambda x: x[0])\n",
    "    with open(\"output_data//midterm_1_seating//by_uci.csv\", \"w\", newline=\"\") as f:\n",
    "        writer = csv.writer(f)\n",
    "        writer.writerows(csv_as_list)"
   ]
  },
  {
   "cell_type": "code",
   "execution_count": 164,
   "id": "9c9fa326-a16d-4339-ae2a-2f142a75b8d5",
   "metadata": {},
   "outputs": [
    {
     "name": "stdout",
     "output_type": "stream",
     "text": [
      "Left\n",
      "Center\n",
      "Right\n"
     ]
    }
   ],
   "source": [
    "pa_to_seating = \"input_data//midterm_1_seating.csv\"\n",
    "data_frame = read_csv(pa_to_seating)\n",
    "\n",
    "create_seat_printout(data_frame)"
   ]
  },
  {
   "cell_type": "code",
   "execution_count": 122,
   "id": "49642670-5416-477a-98ca-6a0e0df55b22",
   "metadata": {},
   "outputs": [],
   "source": [
    "to_include = [\"Student\",\"SIS Login ID\",\"Seats\"]\n"
   ]
  },
  {
   "cell_type": "code",
   "execution_count": 4,
   "id": "a1d3b8a8-593c-4710-b4fa-20fe0ac9a63d",
   "metadata": {},
   "outputs": [
    {
     "name": "stdout",
     "output_type": "stream",
     "text": [
      "Student\n",
      "ID\n",
      "SIS User ID\n",
      "SIS Login ID\n",
      "Section\n",
      "Seats\n",
      "Score\n"
     ]
    }
   ],
   "source": [
    "for i in data_frame:\n",
    "    print(i)"
   ]
  },
  {
   "cell_type": "code",
   "execution_count": null,
   "id": "ccc93996-2328-4655-a42d-bbe111e59563",
   "metadata": {},
   "outputs": [],
   "source": []
  }
 ],
 "metadata": {
  "kernelspec": {
   "display_name": "Python 3 (ipykernel)",
   "language": "python",
   "name": "python3"
  },
  "language_info": {
   "codemirror_mode": {
    "name": "ipython",
    "version": 3
   },
   "file_extension": ".py",
   "mimetype": "text/x-python",
   "name": "python",
   "nbconvert_exporter": "python",
   "pygments_lexer": "ipython3",
   "version": "3.9.13"
  }
 },
 "nbformat": 4,
 "nbformat_minor": 5
}
